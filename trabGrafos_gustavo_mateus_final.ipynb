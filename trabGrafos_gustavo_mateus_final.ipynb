{
  "nbformat": 4,
  "nbformat_minor": 0,
  "metadata": {
    "colab": {
      "name": "trabGrafos_gustavo_mateus_final.ipynb",
      "provenance": [],
      "collapsed_sections": [],
      "include_colab_link": true
    },
    "kernelspec": {
      "name": "python3",
      "display_name": "Python 3"
    }
  },
  "cells": [
    {
      "cell_type": "markdown",
      "metadata": {
        "id": "view-in-github",
        "colab_type": "text"
      },
      "source": [
        "<a href=\"https://colab.research.google.com/github/gusfcc/trabaed2/blob/main/trabGrafos_gustavo_mateus_final.ipynb\" target=\"_parent\"><img src=\"https://colab.research.google.com/assets/colab-badge.svg\" alt=\"Open In Colab\"/></a>"
      ]
    },
    {
      "cell_type": "markdown",
      "metadata": {
        "id": "PvKmra3aVJDf"
      },
      "source": [
        "## Divisão:\n",
        "\n",
        "*   Gustavo Fernandes Carneiro de Castro - 11369684\n",
        "    1.   Percurso em Largura\n",
        "    2.   Caminho mais curto a partir de uma única origem\n",
        "\n",
        "*   Mateus Miquelino da Silva - 11208412\n",
        "    1.   Percurso em Profundidade\n",
        "    2.   Árvore espalhada mínima\n",
        "\n",
        "*   Ambos:\n",
        "    1.   Revisão\n",
        "    2.   Criação dos grafos de exemplo\n",
        "    3. Testes\n",
        "\n",
        "\n",
        "\n",
        "\n",
        "\n",
        "\n",
        "## Enunciado:\n",
        "\n",
        "Desenvolver códigos Python para implementar as seguintes tarefas sobre grafos:\n",
        "\n",
        "\n",
        "1.   Percurso em profundidade e percurso em largura (peso=50%);\n",
        "2.   Um algoritmo para árvore espalhada mínima (escolher entre os algoritmos de\n",
        "Kruskal e Prim) (peso=25%);\n",
        "3.   Um algoritmo para caminho mais curto a partir de uma única origem (escolher\n",
        "entre os algoritmos de Bellman-Ford e Dijkstra) (peso=25%).\n"
      ]
    },
    {
      "cell_type": "markdown",
      "metadata": {
        "id": "lkO5BPkAldQp"
      },
      "source": [
        "# **Códigos Bases**\n"
      ]
    },
    {
      "cell_type": "markdown",
      "metadata": {
        "id": "D-1lh6RybRsV"
      },
      "source": [
        "Grafos não ponderados e não direcionados:"
      ]
    },
    {
      "cell_type": "code",
      "metadata": {
        "id": "oNzdzClwVOhw"
      },
      "source": [
        "# Grafos não ponderados e não direcionados:\n",
        "class Grafo:\n",
        "\n",
        "    def __init__ (self, vertices):\n",
        "        self.listaAdj = {}\n",
        "        self.nvertices = vertices\n",
        "\n",
        "    # arestas bidirecionais\n",
        "    def add_aresta(self, vert1, vert2):\n",
        "        if vert1 not in self.listaAdj:\n",
        "            self.listaAdj[vert1] = []\n",
        "        if vert2 not in self.listaAdj:\n",
        "            self.listaAdj[vert2] = []\n",
        "        self.listaAdj[vert1].append(vert2)\n",
        "        self.listaAdj[vert2].append(vert1)\n",
        "\n",
        "    def get_vertices(self) :\n",
        "        # retorna list type e nao dict_keys type\n",
        "        return (list(self.listaAdj.keys()))\n",
        "\n",
        "    def get_adjacentes(self, vertice):\n",
        "        return (self.listaAdj[vertice])\n",
        "\n",
        "    def mostraLista(self):\n",
        "        for x in self.listaAdj.items():\n",
        "            print(x)\n",
        "\n",
        "    def main():\n",
        "        vertices = 4\n",
        "        g = Grafo(vertices)\n",
        "        g.add_aresta(0, 1)\n",
        "        g.add_aresta(1, 2)\n",
        "        g.add_aresta(2, 3)\n",
        "        g.add_aresta(3, 0)\n",
        "        g.add_aresta(3, 4)\n",
        "        print (\"Lista de adjacencia\")\n",
        "\n",
        "        g.mostraLista()\n",
        "        v =3\n",
        "        print (\"Adjacentes a\", v)\n",
        "\n",
        "        k = g.get_adjacentes (v)\n",
        "        print (k)\n",
        "\n",
        "        print (\"Vertices\")\n",
        "        v = g.get_vertices()\n",
        "        print (v)\n",
        "        \n",
        "if __name__ == \" __main__ \" :\n",
        "    main()"
      ],
      "execution_count": null,
      "outputs": []
    },
    {
      "cell_type": "markdown",
      "metadata": {
        "id": "CDzi-nOFlv-t"
      },
      "source": [
        "Grafos ponderados e direcionados:"
      ]
    },
    {
      "cell_type": "code",
      "metadata": {
        "id": "ZC4aHHVTprFQ"
      },
      "source": [
        "class Grafo(object):\n",
        "\n",
        "    def __init__(self, vertices):\n",
        "        self.vertices = {}\n",
        "        self.nv = vertices\n",
        "        \n",
        "    def add_aresta(self, chave_de, chave_para, peso):\n",
        "        if chave_de not in self.vertices:\n",
        "            self.vertices[chave_de] = {}\n",
        "        if chave_para not in self.vertices:\n",
        "            self.vertices[chave_para] = {}\n",
        "        self.vertices[chave_de][chave_para] = peso\n",
        "\n",
        "    def mostraGrafo(self):\n",
        "        for x in self.vertices.items():\n",
        "            print(x)\n",
        "\n",
        "    def get_vertices(self):\n",
        "    # retorna list type e nao dict_keys type\n",
        "        return (list(self.vertices.keys()))\n",
        "\n",
        "    def get_adjacentes(self, chave):\n",
        "        return (list(self.vertices[chave].keys()))\n",
        "\n",
        "    def get_pesosAdjacentes(self, chave):\n",
        "        return (list(self.vertices[chave].values()))"
      ],
      "execution_count": null,
      "outputs": []
    },
    {
      "cell_type": "markdown",
      "metadata": {
        "id": "9YJrblPxq0_s"
      },
      "source": [
        "Classe de Vertices apresentada:"
      ]
    },
    {
      "cell_type": "code",
      "metadata": {
        "id": "YLaP0rWKq7wo"
      },
      "source": [
        "class Vertice(object):\n",
        "    def __init__(self, num, dist):\n",
        "        self.num = num\n",
        "        self.dist = dist # dado adicional = distancia\n",
        "        \n",
        "    def __repr__(self):\n",
        "        return str(self.num) + \"-\" + str(self.dist)\n",
        "\n",
        "    def mudaDist(self, dist2):\n",
        "        self.dist = dist2"
      ],
      "execution_count": null,
      "outputs": []
    },
    {
      "cell_type": "markdown",
      "metadata": {
        "id": "EXyIoh7P1OPz"
      },
      "source": [
        "Classe Tg para mostrar a aplicação da Classe Vertice:"
      ]
    },
    {
      "cell_type": "code",
      "metadata": {
        "id": "908KEn5i1lkf"
      },
      "source": [
        "class Tg(object):\n",
        "    def __init__(self, vertices):\n",
        "        self.vertices = {}\n",
        "        self.nv = vertices\n",
        "        \n",
        "    def add_aresta(self, chave_de:Vertice, chave_para:Vertice, peso):\n",
        "        if chave_de not in self.vertices:\n",
        "            self.vertices[chave_de] = {}\n",
        "        if chave_para not in self.vertices:\n",
        "            self.vertices[chave_para] = {}\n",
        "        self.vertices[chave_de][chave_para] = peso\n",
        "        \n",
        "    def mostraGrafo(self):\n",
        "        for x in self.vertices.items():\n",
        "            print(x)"
      ],
      "execution_count": null,
      "outputs": []
    },
    {
      "cell_type": "markdown",
      "metadata": {
        "id": "T1WuOvCy1x2Y"
      },
      "source": [
        "# **Percurso em Profundidade**"
      ]
    },
    {
      "cell_type": "markdown",
      "metadata": {
        "id": "gWlmZ3-_32fB"
      },
      "source": [
        "Classe Grafo utilizada para aplicar a busca em profundidade. Um grafo não ponderado e não direcionado"
      ]
    },
    {
      "cell_type": "code",
      "metadata": {
        "id": "8iK-lsBQc_bc"
      },
      "source": [
        "# Grafos não ponderados e não direcionados:\n",
        "class Grafo:\n",
        "\n",
        "    def __init__(self, vertices):\n",
        "        self.listaAdj = {}\n",
        "        self.nvertices = vertices\n",
        "\n",
        "    # arestas bidirecionais\n",
        "    def add_aresta(self, vert1, vert2):\n",
        "        if vert1 not in self.listaAdj:\n",
        "            self.listaAdj[vert1] = []\n",
        "\n",
        "        if vert2 not in self.listaAdj:\n",
        "            self.listaAdj[vert2] = []\n",
        "\n",
        "        self.listaAdj[vert1].append(vert2)\n",
        "        self.listaAdj[vert2].append(vert1)\n",
        "\n",
        "    def get_vertices(self):\n",
        "        # retorna list type e nao dict_keys type\n",
        "        return list(self.listaAdj.keys())\n",
        "\n",
        "    def get_adjacentes(self, vertice):\n",
        "        return self.listaAdj[vertice]\n",
        "\n",
        "    def mostraLista(self):\n",
        "        for x in self.listaAdj.items():\n",
        "            print(x)\n"
      ],
      "execution_count": null,
      "outputs": []
    },
    {
      "cell_type": "markdown",
      "metadata": {
        "id": "FZf0Wz-E4PGl"
      },
      "source": [
        "função percurso_pronfundidade(G, vert_inicial): recebe um garfo G e faz o percurso em profundidade de G, a partir de um vertice inicial (vert_inicial). A função retorna uma lista com os vertices percorridos em ordem, do vertice inicial até o ultimo vertice do grafo (vertice mais profundo) ou False caso o vert_inicial não pertença ao grafo G"
      ]
    },
    {
      "cell_type": "code",
      "metadata": {
        "id": "ZidpTG_Y4l4n"
      },
      "source": [
        "def percurso_profundidade(G, vert_inicial):\n",
        "    # edges é a lista onde será salvo os vertices na sequencia em que a \n",
        "    # busca em profundidade percorre o grafo G, a partir do vertice \n",
        "    # inicial, representado pela var vert_inicial\n",
        "    # Deve-se perguntar se o vert_inicial pertence ao grafo G ou não\n",
        "    if vert_inicial not in G.get_vertices():\n",
        "    \n",
        "        # retorna False caso vert_inicial não pertence ao grafo G\n",
        "        return False\n",
        "    \n",
        "    else:\n",
        "        edges = [vert_inicial]\n",
        "        # pp_recursiva é responsavel por percorrer o grafo G e salvar\n",
        "        # os vertices percorridos em edges\n",
        "        pp_recursiva(G, edges, edges)\n",
        "        \n",
        "        return edges"
      ],
      "execution_count": null,
      "outputs": []
    },
    {
      "cell_type": "markdown",
      "metadata": {
        "id": "JPT9S-i34rva"
      },
      "source": [
        "pp_recursiva recebe um grafo G no qual será feito o percurso em profundidade; edges_atual é uma lista que salva os vertices percorridos até aquele momento o percurso em profundidade e o ultimo elesmento de edges_atual é o vertice em que o percurso em profundidade está atualmente; e edges é uma lista  com os vertices percorridos em ordem, do vertice inicial (vert_inicial) até o ultimo vertice do grafo (vertice mais profundo)."
      ]
    },
    {
      "cell_type": "code",
      "metadata": {
        "id": "oQS-p-kj44SY"
      },
      "source": [
        "def pp_recursiva(G, edges_atual, edges):\n",
        "\n",
        "    # edges_atual[-1] é o ultimo elemento da lista edges_atual, o qual\n",
        "    # é o vertice em que estamos atualmente.\n",
        "    # vert_adj percorre uma lista dos vertices adjacentes\n",
        "    # do vertice em que estamos atualmente\n",
        "    for vert_adj in G.listaAdj[edges_atual[-1]]:\n",
        "\n",
        "        # para evitar um ciclo, deve-se fazer a pergunta:\n",
        "        # já passamos por esse vertice adjacente?\n",
        "        if vert_adj not in edges:\n",
        "\n",
        "            # caso não tenha passado por esse vertice devemos\n",
        "            # adicionar esse vertice em edges e continuar o percurso em\n",
        "            # profundidade a partir do vertice adjacente escolhido\n",
        "            edges.append(vert_adj)\n",
        "            pp_recursiva(G, edges_atual + [vert_adj], edges)\n"
      ],
      "execution_count": null,
      "outputs": []
    },
    {
      "cell_type": "markdown",
      "metadata": {
        "id": "IDf_u9qT5KR-"
      },
      "source": [
        "Teste realizado a partir do grafo abaixo"
      ]
    },
    {
      "cell_type": "code",
      "metadata": {
        "id": "H1t8zRl95S9u",
        "outputId": "83f1c11e-e39c-4508-98b0-c77ddf72d399",
        "colab": {
          "base_uri": "https://localhost:8080/"
        }
      },
      "source": [
        "#Teste\n",
        "\n",
        "# Criação de um Grafo\n",
        "G = Grafo(8)\n",
        "G.add_aresta(0, 3)\n",
        "G.add_aresta(0, 5)\n",
        "G.add_aresta(0, 6)\n",
        "G.add_aresta(2, 4)\n",
        "G.add_aresta(3, 4)\n",
        "G.add_aresta(3, 7)\n",
        "G.add_aresta(5, 1)\n",
        "G.add_aresta(5, 6)\n",
        "G.add_aresta(6, 7)\n",
        "\n",
        "#Testes\n",
        "print(\"v = 0\")\n",
        "print(percurso_profundidade(G, 0))\n",
        "print('\\n')\n",
        "\n",
        "print(\"v = 5\")\n",
        "print(percurso_profundidade(G, 5))\n",
        "print('\\n')\n",
        "\n",
        "print(\"v = 7\")\n",
        "print(percurso_profundidade(G, 7))\n",
        "print(\"\\n\")"
      ],
      "execution_count": null,
      "outputs": [
        {
          "output_type": "stream",
          "text": [
            "v = 0\n",
            "[0, 3, 4, 2, 7, 6, 5, 1]\n",
            "\n",
            "\n",
            "v = 5\n",
            "[5, 0, 3, 4, 2, 7, 6, 1]\n",
            "\n",
            "\n",
            "v = 7\n",
            "[7, 3, 0, 5, 1, 6, 4, 2]\n",
            "\n",
            "\n"
          ],
          "name": "stdout"
        }
      ]
    },
    {
      "cell_type": "markdown",
      "metadata": {
        "id": "eRvCuMTSsb-W"
      },
      "source": [
        "![grafo_teste1.png](data:image/png;base64,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)"
      ]
    },
    {
      "cell_type": "markdown",
      "metadata": {
        "id": "CUPHO8qE1-6F"
      },
      "source": [
        "# **Percurso em Largura**"
      ]
    },
    {
      "cell_type": "markdown",
      "metadata": {
        "id": "ZM3FRpRP1Ieo"
      },
      "source": [
        "Classe Grafo utilizada para aplicar o percurso em largura. Um Grafo não-ponderado e não-direcionado."
      ]
    },
    {
      "cell_type": "code",
      "metadata": {
        "id": "zq_q4O2GSrzL"
      },
      "source": [
        "# Grafos não ponderados e não direcionados:\n",
        "class Grafo:\n",
        "\n",
        "    def __init__ (self, vertices):\n",
        "        self.listaAdj = {}\n",
        "        self.nvertices = vertices\n",
        "\n",
        "    # arestas bidirecionais\n",
        "    def add_aresta(self, vert1, vert2):\n",
        "        if vert1 not in self.listaAdj:\n",
        "            self.listaAdj[vert1] = []\n",
        "        if vert2 not in self.listaAdj:\n",
        "            self.listaAdj[vert2] = []\n",
        "        self.listaAdj[vert1].append(vert2)\n",
        "        self.listaAdj[vert2].append(vert1)\n",
        "\n",
        "    def get_vertices(self) :\n",
        "        # retorna list type e nao dict_keys type\n",
        "        return (list(self.listaAdj.keys()))\n",
        "\n",
        "    def get_adjacentes(self, vertice):\n",
        "        return (self.listaAdj[vertice])\n",
        "\n",
        "    def mostraLista(self):\n",
        "        for x in self.listaAdj.items():\n",
        "            print(x)"
      ],
      "execution_count": 102,
      "outputs": []
    },
    {
      "cell_type": "markdown",
      "metadata": {
        "id": "kWAVIlcX1m9J"
      },
      "source": [
        "Função de percurso em largura BFS(G, v). Esta função utiliza de um sistema de cores para verificar quais vertices já foram analizados.\n",
        "\n",
        "A função recebe um grafo G, e o vertice v no qual será analizada as distâncias para todos os outros vértices u. Retorna o percurso realizado em largura"
      ]
    },
    {
      "cell_type": "code",
      "metadata": {
        "id": "2AnldX4kcmdp"
      },
      "source": [
        "#Percurso em Largura\n",
        "def BFS(G,v):\n",
        "\n",
        "    # Declaração\n",
        "    u_visited = {}  # Dict de col do grafo (alterado para \"visitado\")\n",
        "    v_dist = {} # Dicionário das distâncias dos u até v\n",
        "    u_pai = {} #Dicionário dos pais de u\n",
        "    Q = []\n",
        "\n",
        "    v_list = G.get_vertices() # Lista dos vertices de G\n",
        "    v_list.remove(v) # Removendo o v (inicio) da lista de vertices\n",
        "    \n",
        "    # Inicialização\n",
        "    for u in v_list:\n",
        "        u_visited[u] = \"no\" # Declarando todos vert como não-visitados\n",
        "        v_dist[u] = None # Vertices u a uma distancia infinita de v\n",
        "                        # None - o valor numérico de inf não importa\n",
        "        u_pai[u] = None # Todos sem pai\n",
        "    \n",
        "    u_visited[v] = \"next\" # Marcando como o próximo em análise\n",
        "    v_dist[v] = 0 # Dist do início(v) ao início(v) = 0\n",
        "    u_pai[v] = None # Início não tem pai\n",
        "\n",
        "    Q = [] # Queue\n",
        "    percurso = [] # List de vertices na ordem visitada (percurso)\n",
        "    Q.insert(0, v) # Inserção de v no início\n",
        "\n",
        "    # Algoritmo de BFS()\n",
        "    while Q != []:\n",
        "        \n",
        "        u = Q.pop()\n",
        "        u_adj = G.get_adjacentes(u) # lista de Vertices x adj a u\n",
        "        percurso.insert(len(percurso), u) #Inserir valor de u no percurso\n",
        "\n",
        "        # Marcação dos próx (x)/ aumento na dist de x /\n",
        "        # adição dos pais de x como u / Sendo x os adjacesntes de u\n",
        "        for x in u_adj:\n",
        "            if u_visited[x] == \"no\":\n",
        "                u_visited[x] = \"next\"\n",
        "                v_dist[x] = v_dist[u] + 1\n",
        "                u_pai[x] = u\n",
        "                Q.insert(0, x)\n",
        "        u_visited[u] = \"yes\" # Marcação de u como já visitado\n",
        "\n",
        "    return percurso"
      ],
      "execution_count": null,
      "outputs": []
    },
    {
      "cell_type": "markdown",
      "metadata": {
        "id": "t7cKgV813fCQ"
      },
      "source": [
        "Teste realizado a partir do grafo abaixo"
      ]
    },
    {
      "cell_type": "code",
      "metadata": {
        "id": "0yBDVjmZys4G",
        "outputId": "94bec2a1-8207-4012-f6f0-5635f388a168",
        "colab": {
          "base_uri": "https://localhost:8080/"
        }
      },
      "source": [
        "#Teste\n",
        "\n",
        "# Criação de um grafo\n",
        "G = Grafo(8)\n",
        "G.add_aresta(0, 3)\n",
        "G.add_aresta(0, 5)\n",
        "G.add_aresta(0, 6)\n",
        "G.add_aresta(2, 4)\n",
        "G.add_aresta(3, 4)\n",
        "G.add_aresta(3, 7)\n",
        "G.add_aresta(5, 1)\n",
        "G.add_aresta(5, 6)\n",
        "G.add_aresta(6, 7)\n",
        "\n",
        "#Testes\n",
        "print(\"v = 0\")\n",
        "print(BFS(G, 0))\n",
        "print('\\n')\n",
        "\n",
        "print(\"v = 5\")\n",
        "print(BFS(G, 5))\n",
        "print('\\n')\n",
        "\n",
        "print(\"v = 7\")\n",
        "print(BFS(G, 7))\n",
        "print('\\n')"
      ],
      "execution_count": null,
      "outputs": [
        {
          "output_type": "stream",
          "text": [
            "v = 0\n",
            "[0, 3, 5, 6, 4, 7, 1, 2]\n",
            "\n",
            "\n",
            "v = 5\n",
            "[5, 0, 1, 6, 3, 7, 4, 2]\n",
            "\n",
            "\n",
            "v = 7\n",
            "[7, 3, 6, 0, 4, 5, 2, 1]\n",
            "\n",
            "\n"
          ],
          "name": "stdout"
        }
      ]
    },
    {
      "cell_type": "markdown",
      "metadata": {
        "id": "_nPLoaSsDfOu"
      },
      "source": [
        "![grafo_teste1.png](data:image/png;base64,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)"
      ]
    },
    {
      "cell_type": "markdown",
      "metadata": {
        "id": "wkH9baue2IUX"
      },
      "source": [
        "# **Árvore espalhada mínima**"
      ]
    },
    {
      "cell_type": "markdown",
      "metadata": {
        "id": "1zxNn8jx5sT5"
      },
      "source": [
        "Classe Grafo utilizada para aplicar o percurso em largura. Um Grafo ponderado e não-direcionado."
      ]
    },
    {
      "cell_type": "code",
      "metadata": {
        "id": "The0JODi517x"
      },
      "source": [
        "# Grafo ponderado não direcionado\n",
        "class Grafo(object):\n",
        "\n",
        "    def __init__(self, vertices):\n",
        "        self.vertices = {}\n",
        "        self.nv = vertices\n",
        "\n",
        "    def add_aresta(self, vert1, vert2, peso):\n",
        "        if vert1 not in self.vertices:\n",
        "            self.vertices[vert1] = {}\n",
        "        if vert2 not in self.vertices:\n",
        "            self.vertices[vert2] = {}\n",
        "        self.vertices[vert1][vert2] = peso\n",
        "        self.vertices[vert2][vert1] = peso\n",
        "\n",
        "    def mostraGrafo(self):\n",
        "        for x in self.vertices.items():\n",
        "            print(x)\n",
        "\n",
        "    def get_vertices(self):\n",
        "        # retorna list type e nao dict_keys type\n",
        "        return list(self.vertices.keys())\n",
        "\n",
        "    def get_adjacentes(self, chave):\n",
        "        return list(self.vertices[chave].keys())\n",
        "    def get_pesosAdjacentes(self, chave):\n",
        "        return list(self.vertices[chave].values())"
      ],
      "execution_count": 110,
      "outputs": []
    },
    {
      "cell_type": "markdown",
      "metadata": {
        "id": "50NPj5SK53eB"
      },
      "source": [
        "prim recebe um objeto G do tipo Grafo, o vertice inicial (vert_inicial) onde começará a ser formada a arvore espalhada minima. A função prim deve retornar uma lista que contem as arestas que fazem parte da arvore espalhada minima do grafo G ou False caso o vertice inicial dado não pertença ao grafo G"
      ]
    },
    {
      "cell_type": "code",
      "metadata": {
        "id": "T_V9TPRf52p1"
      },
      "source": [
        "def prim(G, vert_inicial):\n",
        "    # vertices é uma lista que contem todos os vertices de G\n",
        "    vertices = G.get_vertices()\n",
        "\n",
        "    # verificar se vert_inicial pertence ao grafo G\n",
        "    if vert_inicial not in vertices:\n",
        "      return False\n",
        "\n",
        "    # edges é uma lista com as arestas que fazem parte da\n",
        "    #arvore espalhada minima\n",
        "    edges = []\n",
        "\n",
        "    # vert_visitados é uma lista que salva os vertices que fazem\n",
        "    # parte da arevore espalhada minima.\n",
        "    vert_visitados = [vert_inicial]\n",
        "    \n",
        "    # enquanto não visitar todos os vertices de G\n",
        "    while len(vert_visitados) != len(vertices):\n",
        "\n",
        "        # pegar as possiveis arestas que podem ser adicionadas a edges\n",
        "        aresta = arestas_possiveis(G, vert_visitados)\n",
        "\n",
        "        # achar qual é o menor peso das arestas que podem ser\n",
        "        # adicionadas a edges\n",
        "        peso_min = min(list(aresta.keys()))\n",
        "\n",
        "        # a aresta a ser adicionada a edges é a primeira aresta\n",
        "        # que que possui o peso igual a peso_min\n",
        "        aresta_min = aresta[peso_min][0]\n",
        "        edges.append(aresta_min)\n",
        "\n",
        "        # adicionar o vertice adjacente aos vert_visitados\n",
        "        vert_visitados.append(aresta_min[1])\n",
        "\n",
        "    return edges"
      ],
      "execution_count": 111,
      "outputs": []
    },
    {
      "cell_type": "markdown",
      "metadata": {
        "id": "yuD1OakVMJ3C"
      },
      "source": [
        "arestas_possiveis recebe um objeto G, do tipo Grafo, e uma lista vert_visitados. A função deve retornar um dicionario, onde as chaves é o peso da aresta e os items são as arestas do grafo G, que possuem esse peso e que estão conectadas aos vertices da lista vert_visitados, com exceção das arestas formadas pelos próprios vertices contidos em vert_visitados."
      ]
    },
    {
      "cell_type": "code",
      "metadata": {
        "id": "54qGRtU8Mo4y"
      },
      "source": [
        "def arestas_possiveis(G, vert_visitados):\n",
        "    # ap é o dicionario retornado por arestas_possiveis\n",
        "    ap = {}\n",
        "\n",
        "    # sendo vert um dos vertices que fazem parte da arvore espalhada mín\n",
        "    for vert in vert_visitados:\n",
        "\n",
        "        # para os vertices adjacentes de vert\n",
        "        for adj in G.get_adjacentes(vert):\n",
        "\n",
        "            # se esse vertice adjacente já não faz parte da\n",
        "            # arvore espalhada minima\n",
        "            if adj not in vert_visitados:\n",
        "                # calcular peso da aresta (vert, adj)\n",
        "                peso = G.vertices[vert][adj]\n",
        "\n",
        "                # se não existe nenhuma aresta registrada em ap \n",
        "                # que contem esse peso,\n",
        "                # adicionar esse peso como chave de ap\n",
        "                if peso not in list(ap.keys()):\n",
        "                    ap[peso] = []\n",
        "\n",
        "                # aresta adicionada em ap, com sua chave sendo o seu peso\n",
        "                ap[peso].append([vert, adj])\n",
        "    return ap\n"
      ],
      "execution_count": 112,
      "outputs": []
    },
    {
      "cell_type": "markdown",
      "metadata": {
        "id": "XAX-vDYY6i58"
      },
      "source": [
        "Teste realizado a partir do Grafo abaixo "
      ]
    },
    {
      "cell_type": "code",
      "metadata": {
        "id": "12WFJOmP62IE",
        "outputId": "bad99a2f-400f-48d8-85e7-b1e0a26ff9cd",
        "colab": {
          "base_uri": "https://localhost:8080/"
        }
      },
      "source": [
        "#Teste\n",
        "\n",
        "#Criação de um grafo\n",
        "G = Grafo(8)\n",
        "G.add_aresta(3, 4, 3) #Grafo criado fora de ordem para testar\n",
        "G.add_aresta(3, 7, 2)\n",
        "\n",
        "G.add_aresta(0, 3, 2)\n",
        "G.add_aresta(0, 6, 8)\n",
        "G.add_aresta(0, 5, 1)\n",
        "\n",
        "G.add_aresta(1, 5, 4)\n",
        "G.add_aresta(2, 4, 1)\n",
        "\n",
        "G.add_aresta(5, 6, 3)\n",
        "\n",
        "G.add_aresta(6, 7, 1)\n",
        "\n",
        "v = 3\n",
        "print(\"Para o vertice inicial igual a\", v)\n",
        "print(\"Os vertices que pertencem a árvore espalhada mínima de prim são:\"\n",
        "        , prim(G, v))\n",
        "print(\"\\n\")\n",
        "\n",
        "v = 0\n",
        "print(\"Para o vertice inicial igual a\", v)\n",
        "print(\"Os vertices que pertencem a árvore espalhada mínima de prim são:\"\n",
        "        , prim(G, v))\n",
        "print(\"\\n\")\n",
        "\n",
        "v = 8\n",
        "print(\"Para o vertice inicial igual a\", v)\n",
        "print(\"Os vertices que pertencem a árvore espalhada mínima de prim são:\"\n",
        "        , prim(G, v))\n",
        "print(\"\\n\")\n",
        "\n",
        "\n"
      ],
      "execution_count": 113,
      "outputs": [
        {
          "output_type": "stream",
          "text": [
            "Para o vertice inicial igual a 3\n",
            "Os vertices que pertencem a árvore espalhada mínima de prim são: [[3, 7], [7, 6], [3, 0], [0, 5], [3, 4], [4, 2], [5, 1]]\n",
            "\n",
            "\n",
            "Para o vertice inicial igual a 0\n",
            "Os vertices que pertencem a árvore espalhada mínima de prim são: [[0, 5], [0, 3], [3, 7], [7, 6], [3, 4], [4, 2], [5, 1]]\n",
            "\n",
            "\n",
            "Para o vertice inicial igual a 8\n",
            "Os vertices que pertencem a árvore espalhada mínima de prim são: False\n",
            "\n",
            "\n"
          ],
          "name": "stdout"
        }
      ]
    },
    {
      "cell_type": "markdown",
      "metadata": {
        "id": "ejbGpJ6-vTQt"
      },
      "source": [
        "![grafo_teste3.png](data:image/png;base64,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)"
      ]
    },
    {
      "cell_type": "markdown",
      "metadata": {
        "id": "SyMWyEv62Mot"
      },
      "source": [
        "# **Caminho mais curto a partir de uma única origem**"
      ]
    },
    {
      "cell_type": "markdown",
      "metadata": {
        "id": "Y_QiHFW2VEPS"
      },
      "source": [
        "Classe Grafo utilizada para aplicar o algoritmo que acha o caminho mais curto a partir de uma única origem. Um Grafo ponderado e direcionado."
      ]
    },
    {
      "cell_type": "code",
      "metadata": {
        "id": "xp-mkM1aHf7h"
      },
      "source": [
        "class Grafo(object):\n",
        "\n",
        "    def __init__(self, vertices):\n",
        "        self.vertices = {}\n",
        "        self.nv = vertices\n",
        "        \n",
        "    def add_aresta(self, chave_de, chave_para, peso):\n",
        "        if chave_de not in self.vertices:\n",
        "            self.vertices[chave_de] = {}\n",
        "        if chave_para not in self.vertices:\n",
        "            self.vertices[chave_para] = {}\n",
        "        self.vertices[chave_de][chave_para] = peso\n",
        "\n",
        "    def mostraGrafo(self):\n",
        "        for x in self.vertices.items():\n",
        "            print(x)\n",
        "\n",
        "    def get_vertices(self):\n",
        "    # retorna list type e nao dict_keys type\n",
        "        return (list(self.vertices.keys()))\n",
        "\n",
        "    def get_adjacentes(self, chave):\n",
        "        return (list(self.vertices[chave].keys()))\n",
        "\n",
        "    def get_pesosAdjacentes(self, chave):\n",
        "        return (list(self.vertices[chave].values()))"
      ],
      "execution_count": 105,
      "outputs": []
    },
    {
      "cell_type": "markdown",
      "metadata": {
        "id": "-mJTGbvSVLks"
      },
      "source": [
        "Algoritmo implementado. Foi escolhido o algoritmo de Dijkstra.\n",
        "\n",
        "Levando em conta o grafo G e a origem r, o algoritmo retorna os pais de u, e a distância de u a r."
      ]
    },
    {
      "cell_type": "code",
      "metadata": {
        "id": "ZAhLdPlyV8da"
      },
      "source": [
        "#Algoritmo de Dijkstra\n",
        "def dij(G, r):\n",
        "\n",
        "    # Declaração\n",
        "    r_dist = {} # dicionário das distâncias de u até r\n",
        "    r_pai = {} # dicionário dos pais de cada node u\n",
        "    g_vert = G.get_vertices() # lista de verices de G\n",
        "\n",
        "    inf = float('inf') # infinito utilizado na comparação da distância\n",
        "\n",
        "    # Inicialização\n",
        "    for u in g_vert:\n",
        "        r_dist[u] = inf # Vertices a uma dist infinita de r\n",
        "        r_pai[u] = None # Todos sem pai\n",
        "    r_dist[r] = 0 # Dist do início (r) até o início (r) = 0\n",
        "\n",
        "    Q = g_vert # Queue\n",
        "    u = r # Começar do início\n",
        "\n",
        "    #Algoritmo de Dijkstra\n",
        "    while Q != []:\n",
        "        for u in Q:\n",
        "            for i in Q:\n",
        "                if r_dist[u] >= r_dist[i] and r_dist[u] >= 0:\n",
        "                    u = i\n",
        "        \n",
        "        Q.remove(u)\n",
        "        u_adj = G.get_adjacentes(u) # Vertices v adjacentes a u\n",
        "        # Pesos dos vertices v\n",
        "        u_pesos = dict(zip(u_adj, G.get_pesosAdjacentes(u))) \n",
        "\n",
        "        # Ralaxamento de (u, v, u_pesos)\n",
        "        for v in u_adj:\n",
        "            if (r_dist[v] > (r_dist[u] + u_pesos[v])):\n",
        "                r_dist[v] = r_dist[u] + u_pesos[v]\n",
        "                r_pai[v] = u\n",
        "\n",
        "\n",
        "    return r_pai, r_dist"
      ],
      "execution_count": 106,
      "outputs": []
    },
    {
      "cell_type": "markdown",
      "metadata": {
        "id": "ZO7yClMjdlcM"
      },
      "source": [
        "Algoritmo menorC(G, r, s), que utiliza do dijkstra para encontrar o menor caminho de um ponto a outro. Utiliza do Grafo G, do início r e do fim s. \n",
        "\n",
        "Retorna uma lista com a ordem dos grafos que compões o caminho mais curto de r até s, e o valor da distância entre r e s (inf se não é possível chegar de r à s)."
      ]
    },
    {
      "cell_type": "code",
      "metadata": {
        "id": "wKiINcbAdYZp"
      },
      "source": [
        "# Algoritmo Menor Caminho\n",
        "def menorC(G,r,s):\n",
        "    # Chamar dijkstra para obter os pais e dists a partir de r\n",
        "    pai, dist = dij(G, r) \n",
        "    caminho = [] # Inicializar o caminho como r\n",
        "\n",
        "    s_dist = dist[s] # Guardar a dist de s até r\n",
        "    j = pai[s] # Guardar o pai de s (para começar a lista dos caminhos)\n",
        "\n",
        "    # Se ambos forem iguais, o caminho é apenas ele mesmo.\n",
        "    if r == s:\n",
        "        return [s], s_dist\n",
        "\n",
        "    # Se j == None, j não tem pai, e não há um caminho de r até ele\n",
        "    if j == None:\n",
        "            return [], s_dist\n",
        "    \n",
        "    # Inserção dos nós ao caminho. Feita de trás para a frente,\n",
        "    # inserindo os pais no começo\n",
        "    caminho.insert(0,s)\n",
        "    while j != r:\n",
        "        caminho.insert(0,j)\n",
        "        j = pai[j]\n",
        "\n",
        "    caminho.insert(0,r)\n",
        "\n",
        "    return caminho, s_dist"
      ],
      "execution_count": 107,
      "outputs": []
    },
    {
      "cell_type": "markdown",
      "metadata": {
        "id": "6HwxXDxBdaFE"
      },
      "source": [
        "Teste realizado a partir do grafo abaixo"
      ]
    },
    {
      "cell_type": "code",
      "metadata": {
        "id": "ABTjV2ugbXhK",
        "outputId": "367b3167-c0c1-4131-c14c-f919b018c190",
        "colab": {
          "base_uri": "https://localhost:8080/",
          "height": 0
        }
      },
      "source": [
        "#Teste\n",
        "\n",
        "#Criação de um grafo\n",
        "G = Grafo(8)\n",
        "G.add_aresta(6, 0, 8) #Grafo criado fora de ordem para testar\n",
        "G.add_aresta(6, 5, 3)\n",
        "G.add_aresta(6, 7, 1)\n",
        "\n",
        "G.add_aresta(0, 3, 2)\n",
        "G.add_aresta(0, 6, 8)\n",
        "\n",
        "G.add_aresta(3, 0, 2)\n",
        "G.add_aresta(3, 7, 2)\n",
        "\n",
        "G.add_aresta(4, 2, 1)\n",
        "G.add_aresta(4, 3, 3)\n",
        "\n",
        "G.add_aresta(5, 0, 1)\n",
        "G.add_aresta(5, 1, 4)\n",
        "\n",
        "G.add_aresta(7, 6, 1)\n",
        "\n",
        "c, d = menorC(G,0,1)\n",
        "# Print:\n",
        "print(\"0 --> 1\")\n",
        "print(c)\n",
        "print(\"Dist: \" +  str(d))\n",
        "print(\"\\n\")\n",
        "\n",
        "c, d = menorC(G,4,5)\n",
        "# Print:\n",
        "print(\"4 --> 5\")\n",
        "print(c)\n",
        "print(\"Dist: \" +  str(d))\n",
        "print(\"\\n\")\n",
        "\n",
        "c, d = menorC(G,2,2)\n",
        "# Print:\n",
        "print(\"2 --> 2\")\n",
        "print(c)\n",
        "print(\"Dist: \" +  str(d))\n",
        "print(\"\\n\")\n",
        "\n",
        "c, d = menorC(G,0,2)\n",
        "# Print:\n",
        "print(\"0 --> 2\")\n",
        "print(c)\n",
        "print(\"Dist: \" +  str(d))\n",
        "print(\"\\n\")"
      ],
      "execution_count": 108,
      "outputs": [
        {
          "output_type": "stream",
          "text": [
            "0 --> 1\n",
            "[0, 3, 7, 6, 5, 1]\n",
            "Dist: 12\n",
            "\n",
            "\n",
            "4 --> 5\n",
            "[4, 3, 7, 6, 5]\n",
            "Dist: 9\n",
            "\n",
            "\n",
            "2 --> 2\n",
            "[2]\n",
            "Dist: 0\n",
            "\n",
            "\n",
            "0 --> 2\n",
            "[]\n",
            "Dist: inf\n",
            "\n",
            "\n"
          ],
          "name": "stdout"
        }
      ]
    },
    {
      "cell_type": "markdown",
      "metadata": {
        "id": "BWOp04ZScByN"
      },
      "source": [
        "![grafo_teste2.png](data:image/png;base64,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)"
      ]
    }
  ]
}